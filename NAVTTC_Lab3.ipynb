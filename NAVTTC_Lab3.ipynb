{
 "cells": [
  {
   "cell_type": "markdown",
   "id": "774bd419",
   "metadata": {},
   "source": [
    "# NAVTTC Lab 3 — Python Data Structures"
   ]
  },
  {
   "cell_type": "markdown",
   "id": "2da9ee8c",
   "metadata": {},
   "source": [
    "## List Operations"
   ]
  },
  {
   "cell_type": "code",
   "execution_count": 4,
   "id": "24891c37",
   "metadata": {},
   "outputs": [
    {
     "name": "stdout",
     "output_type": "stream",
     "text": [
      "zeba\n",
      "Banana\n",
      "apple\n",
      "banana\n",
      "cherry\n",
      "apple\n",
      "banana\n",
      "cherry\n"
     ]
    }
   ],
   "source": [
    "MYLIST  = [\"zeba\",\"Banana\",\"apple\", \"banana\", \"cherry\",\"apple\", \"banana\", \"cherry\"]\n",
    "# THIS IS A LOOP\n",
    "for a in MYLIST:\n",
    "    print(a)"
   ]
  },
  {
   "cell_type": "code",
   "execution_count": 5,
   "id": "9c6c4b73",
   "metadata": {},
   "outputs": [
    {
     "name": "stdout",
     "output_type": "stream",
     "text": [
      "apple\n",
      "banana\n",
      "cherry\n"
     ]
    }
   ],
   "source": [
    "thislist = [\"apple\", \"banana\", \"cherry\"]\n",
    "i = 0\n",
    "while i < len(thislist):\n",
    "    print(thislist[i])\n",
    "    i = i + 1"
   ]
  },
  {
   "cell_type": "code",
   "execution_count": 6,
   "id": "0f6d6264",
   "metadata": {},
   "outputs": [
    {
     "name": "stdout",
     "output_type": "stream",
     "text": [
      "['Ali', 'Ali', 'Bisma', 'Bisma', 'Hiba', 'Hiba', 'Sadia', 'Sadia', 'Zanaib', 'Zanaib']\n"
     ]
    }
   ],
   "source": [
    "thislist = [\"Bisma\", \"Hiba\", \"Ali\", \"Sadia\", \"Zanaib\",\"Bisma\", \"Hiba\", \"Ali\", \"Sadia\", \"Zanaib\"]\n",
    "thislist.sort()\n",
    "print(thislist)"
   ]
  },
  {
   "cell_type": "code",
   "execution_count": 7,
   "id": "3f7239a9",
   "metadata": {},
   "outputs": [
    {
     "name": "stdout",
     "output_type": "stream",
     "text": [
      "['Zanaib', 'Zanaib', 'Sadia', 'Sadia', 'Hiba', 'Hiba', 'Bisma', 'Bisma', 'Ali', 'Ali']\n"
     ]
    }
   ],
   "source": [
    "thislist = [\"Bisma\", \"Hiba\", \"Ali\", \"Sadia\", \"Zanaib\",\"Bisma\", \"Hiba\", \"Ali\", \"Sadia\", \"Zanaib\"]\n",
    "thislist.sort(reverse=True)\n",
    "print(thislist)"
   ]
  },
  {
   "cell_type": "code",
   "execution_count": 8,
   "id": "9a466c84",
   "metadata": {},
   "outputs": [
    {
     "name": "stdout",
     "output_type": "stream",
     "text": [
      "['Brange', 'anana', 'ciwi', 'dherry']\n"
     ]
    }
   ],
   "source": [
    "thislist = [\"anana\", \"Brange\", \"ciwi\", \"dherry\"]\n",
    "thislist.sort()\n",
    "print(thislist)"
   ]
  },
  {
   "cell_type": "code",
   "execution_count": 9,
   "id": "c7fbcb0d",
   "metadata": {},
   "outputs": [
    {
     "name": "stdout",
     "output_type": "stream",
     "text": [
      "['aanana', 'Kiwi', 'Orange', 'Zherry']\n"
     ]
    }
   ],
   "source": [
    "thislist = [\"aanana\", \"Orange\", \"Kiwi\", \"Zherry\"]\n",
    "thislist.sort(key=str.lower)\n",
    "print(thislist)"
   ]
  },
  {
   "cell_type": "code",
   "execution_count": 10,
   "id": "ddfac8ea",
   "metadata": {},
   "outputs": [
    {
     "name": "stdout",
     "output_type": "stream",
     "text": [
      "['apple', 'banana', 'cherry']\n"
     ]
    }
   ],
   "source": [
    "oldlist = [\"apple\", \"banana\", \"cherry\"]\n",
    "newlist = oldlist.copy()\n",
    "print(newlist)"
   ]
  },
  {
   "cell_type": "code",
   "execution_count": 11,
   "id": "0cc055ca",
   "metadata": {},
   "outputs": [
    {
     "name": "stdout",
     "output_type": "stream",
     "text": [
      "['apple', 'banana', 'cherry']\n"
     ]
    }
   ],
   "source": [
    "fruite = [\"apple\", \"banana\", \"cherry\"]\n",
    "mylist = list(fruite)\n",
    "print(mylist)"
   ]
  },
  {
   "cell_type": "code",
   "execution_count": 12,
   "id": "bac87fad",
   "metadata": {},
   "outputs": [
    {
     "name": "stdout",
     "output_type": "stream",
     "text": [
      "['apple', 'banana', 'cherry']\n"
     ]
    }
   ],
   "source": [
    "thislist = [\"apple\", \"banana\", \"cherry\"]\n",
    "mylist = thislist[:]\n",
    "print(mylist)"
   ]
  },
  {
   "cell_type": "code",
   "execution_count": 13,
   "id": "461dc29a",
   "metadata": {},
   "outputs": [
    {
     "name": "stdout",
     "output_type": "stream",
     "text": [
      "[1, 2, 3, 'a', 'b', 'c']\n"
     ]
    }
   ],
   "source": [
    "list1 = [\"a\", \"b\", \"c\"]\n",
    "list2 = [1, 2, 3]\n",
    "list3 = list2 + list1\n",
    "print(list3)"
   ]
  },
  {
   "cell_type": "markdown",
   "id": "dc0082f6",
   "metadata": {},
   "source": [
    "## Tuple Examples"
   ]
  },
  {
   "cell_type": "code",
   "execution_count": 14,
   "id": "9ab9d06f",
   "metadata": {},
   "outputs": [
    {
     "name": "stdout",
     "output_type": "stream",
     "text": [
      "('apple', 'banana', 'cherry')\n",
      "['a', 'b', 'c']\n",
      "<class 'tuple'>\n",
      "<class 'list'>\n"
     ]
    }
   ],
   "source": [
    "data1 = (\"apple\", \"banana\", \"cherry\")\n",
    "data2 = [\"a\", \"b\", \"c\"]\n",
    "print(data1)\n",
    "print(data2)\n",
    "print(type(data1))\n",
    "print(type(data2))"
   ]
  },
  {
   "cell_type": "code",
   "execution_count": 15,
   "id": "f8cdace1",
   "metadata": {},
   "outputs": [
    {
     "name": "stdout",
     "output_type": "stream",
     "text": [
      "<class 'list'>\n"
     ]
    }
   ],
   "source": [
    "mytuple = [\"apple\", \"banana\", \"cherry\"]\n",
    "print(type(mytuple))"
   ]
  },
  {
   "cell_type": "markdown",
   "id": "72fba8c5",
   "metadata": {},
   "source": [
    "## Set Examples"
   ]
  },
  {
   "cell_type": "code",
   "execution_count": 16,
   "id": "577bf77a",
   "metadata": {},
   "outputs": [
    {
     "name": "stdout",
     "output_type": "stream",
     "text": [
      "<class 'set'>\n"
     ]
    }
   ],
   "source": [
    "mytuple = {\"apple\", \"banana\", \"cherry\", \"ayeus\"}\n",
    "print(type(mytuple))"
   ]
  },
  {
   "cell_type": "code",
   "execution_count": 17,
   "id": "c9b7140e",
   "metadata": {},
   "outputs": [
    {
     "name": "stdout",
     "output_type": "stream",
     "text": [
      "banana\n",
      "apple\n",
      "cherry\n",
      "ayesha\n"
     ]
    }
   ],
   "source": [
    "thisset = {\"apple\", \"banana\", \"cherry\", \"ayesha\"}\n",
    "for x in thisset:\n",
    "    print(x)"
   ]
  },
  {
   "cell_type": "markdown",
   "id": "96fab2bc",
   "metadata": {},
   "source": [
    "## Dictionary Examples"
   ]
  },
  {
   "cell_type": "code",
   "execution_count": 18,
   "id": "e4044c51",
   "metadata": {},
   "outputs": [
    {
     "name": "stdout",
     "output_type": "stream",
     "text": [
      "{'brand': 'swift', 'model': 'aspire', 'color': 'red', 'year': 4}\n"
     ]
    }
   ],
   "source": [
    "thisdict = {\n",
    "    \"brand\": \"swift\",\n",
    "    \"model\": \"aspire\",\n",
    "    \"color\": \"red\",\n",
    "    \"year\": 4\n",
    "}\n",
    "print(thisdict)"
   ]
  },
  {
   "cell_type": "code",
   "execution_count": 19,
   "id": "05950d6a",
   "metadata": {},
   "outputs": [
    {
     "name": "stdout",
     "output_type": "stream",
     "text": [
      "{'ALI': 12, 'HAMZA': 13, 'SADIA': 14}\n"
     ]
    }
   ],
   "source": [
    "thisdict = {\n",
    "  \"ALI\": 12,\n",
    "  \"HAMZA\": 13,\n",
    "  \"SADIA\": 14\n",
    "}\n",
    "print(thisdict)"
   ]
  },
  {
   "cell_type": "code",
   "execution_count": 20,
   "id": "4da933c8",
   "metadata": {},
   "outputs": [
    {
     "name": "stdout",
     "output_type": "stream",
     "text": [
      "{'brand': 'Ford', 'electric': True, 'year': 1964, 'colors': ['red', 'white', 'blue']}\n"
     ]
    }
   ],
   "source": [
    "ford = {\n",
    "  \"brand\": \"Ford\",\n",
    "  \"electric\": True,\n",
    "  \"year\": 1964,\n",
    "  \"colors\": [\"red\", \"white\", \"blue\"]\n",
    "}\n",
    "print(ford)"
   ]
  },
  {
   "cell_type": "code",
   "execution_count": 21,
   "id": "dd323c80",
   "metadata": {},
   "outputs": [
    {
     "name": "stdout",
     "output_type": "stream",
     "text": [
      "{'brand': 'honda', 'electric': True, 'year': 1923, 'colors': ['green', 'white', 'blue']}\n"
     ]
    }
   ],
   "source": [
    "honda = {\n",
    "  \"brand\": \"honda\",\n",
    "  \"electric\": True,\n",
    "  \"year\": 1923,\n",
    "  \"colors\": [\"green\", \"white\", \"blue\"]\n",
    "}\n",
    "print(honda)"
   ]
  },
  {
   "cell_type": "code",
   "execution_count": 22,
   "id": "3947b8cf",
   "metadata": {},
   "outputs": [
    {
     "name": "stdout",
     "output_type": "stream",
     "text": [
      "ali\n",
      "ali\n",
      "Ford\n"
     ]
    }
   ],
   "source": [
    "thisdict = {\n",
    "  \"brand\": \"Ford\",\n",
    "  \"model\": \"Mustang\",\n",
    "  \"year\": \"ali\"\n",
    "}\n",
    "x = thisdict[\"year\"]\n",
    "y = thisdict[\"brand\"]\n",
    "print(thisdict[\"year\"])\n",
    "print(x)\n",
    "print(y)"
   ]
  },
  {
   "cell_type": "code",
   "execution_count": 23,
   "id": "e9c9bc3a",
   "metadata": {},
   "outputs": [
    {
     "name": "stdout",
     "output_type": "stream",
     "text": [
      "dict_values(['Ford', 'Mustang', 1964])\n",
      "dict_values(['Ford', 'Mustang', 1964, 'red'])\n"
     ]
    }
   ],
   "source": [
    "car = {\n",
    " \"brand\": \"Ford\",\n",
    " \"model\": \"Mustang\",\n",
    " \"year\": 1964\n",
    "}\n",
    "x = car.values()\n",
    "print(x) #before the change\n",
    "car[\"color\"] = \"red\"\n",
    "print(x) #after the change"
   ]
  }
 ],
 "metadata": {
  "kernelspec": {
   "display_name": "Python [conda env:base] *",
   "language": "python",
   "name": "conda-base-py"
  },
  "language_info": {
   "codemirror_mode": {
    "name": "ipython",
    "version": 3
   },
   "file_extension": ".py",
   "mimetype": "text/x-python",
   "name": "python",
   "nbconvert_exporter": "python",
   "pygments_lexer": "ipython3",
   "version": "3.13.5"
  }
 },
 "nbformat": 4,
 "nbformat_minor": 5
}
