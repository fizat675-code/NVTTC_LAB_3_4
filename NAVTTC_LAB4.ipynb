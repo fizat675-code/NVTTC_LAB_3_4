{
 "cells": [
  {
   "cell_type": "markdown",
   "id": "d2a0c20a-84ef-45f2-bbf8-7a145252086c",
   "metadata": {},
   "source": [
    "# TASK1_IF and ELSE Practice"
   ]
  },
  {
   "cell_type": "code",
   "execution_count": 1,
   "id": "48af8070-b596-4498-912b-61a4fcc946e2",
   "metadata": {},
   "outputs": [
    {
     "name": "stdout",
     "output_type": "stream",
     "text": [
      "b is greater than a\n"
     ]
    }
   ],
   "source": [
    "# Comparing two numbers\n",
    "a = 33   # variable a stores 33\n",
    "b = 200  # variable b stores 200\n",
    "\n",
    "if b > a:   # check if b is greater than a\n",
    "    print(\"b is greater than a\")\n"
   ]
  },
  {
   "cell_type": "markdown",
   "id": "c09c1807-cb82-4fdc-8a00-638bda28c97e",
   "metadata": {},
   "source": [
    "# TASK2 _ELIF EXAMPLE"
   ]
  },
  {
   "cell_type": "code",
   "execution_count": 2,
   "id": "ac690773-8b7d-42f6-8885-54fe2b330094",
   "metadata": {},
   "outputs": [
    {
     "name": "stdout",
     "output_type": "stream",
     "text": [
      "a and b are equal\n"
     ]
    }
   ],
   "source": [
    "a = 33\n",
    "b = 33\n",
    "\n",
    "if b > a:\n",
    "    print(\"b is greater than a\")\n",
    "elif a == b:\n",
    "    print(\"a and b are equal\")\n"
   ]
  },
  {
   "cell_type": "markdown",
   "id": "35cbc6a6-14f9-42b7-a3eb-9e1881a95446",
   "metadata": {},
   "source": [
    "# TASK3_If–Elif–Else Chain"
   ]
  },
  {
   "cell_type": "code",
   "execution_count": 3,
   "id": "34e70189-fa6f-4528-aa7e-3f2fe3de1c3d",
   "metadata": {},
   "outputs": [
    {
     "name": "stdout",
     "output_type": "stream",
     "text": [
      "b is greater than a\n"
     ]
    }
   ],
   "source": [
    "a = 20\n",
    "b = 30\n",
    "\n",
    "if b > a:\n",
    "    print(\"b is greater than a\")\n",
    "elif a == b:\n",
    "    print(\"a and b are equal\")\n",
    "else:\n",
    "    print(\"a is greater than b\")\n"
   ]
  },
  {
   "cell_type": "markdown",
   "id": "2e0b188b-ceab-4f3a-aef0-f8ec31560df8",
   "metadata": {},
   "source": [
    "# TASK4_Using or Condition"
   ]
  },
  {
   "cell_type": "code",
   "execution_count": 4,
   "id": "bfac3d88-7d6b-4ee1-8947-ac42aac143c2",
   "metadata": {},
   "outputs": [
    {
     "name": "stdout",
     "output_type": "stream",
     "text": [
      "At least one of the conditions is True\n"
     ]
    }
   ],
   "source": [
    "a = 200\n",
    "b = 33\n",
    "c = 500\n",
    "\n",
    "if a > b or a > c:\n",
    "    print(\"At least one of the conditions is True\")\n"
   ]
  },
  {
   "cell_type": "markdown",
   "id": "33ae27d5-9cd6-4aab-ba00-1496cdeebab3",
   "metadata": {},
   "source": [
    "# TASK5_Using not Operator"
   ]
  },
  {
   "cell_type": "code",
   "execution_count": 5,
   "id": "bfe2aa72-0c3b-41d5-9ae2-9544b1bd79cc",
   "metadata": {},
   "outputs": [
    {
     "name": "stdout",
     "output_type": "stream",
     "text": [
      "a is NOT greater than b\n"
     ]
    }
   ],
   "source": [
    "a = 33\n",
    "b = 200\n",
    "\n",
    "if not a > b:\n",
    "    print(\"a is NOT greater than b\")\n"
   ]
  },
  {
   "cell_type": "markdown",
   "id": "05225b62-2c8a-4f5b-a779-092d0b05baa1",
   "metadata": {},
   "source": [
    "# TASK6_Nested if Statements"
   ]
  },
  {
   "cell_type": "code",
   "execution_count": 7,
   "id": "22aa46e4-d67b-4f4d-a4d6-f3d7ee24e575",
   "metadata": {},
   "outputs": [
    {
     "name": "stdout",
     "output_type": "stream",
     "text": [
      "Above ten,\n",
      "and also above 20!\n"
     ]
    }
   ],
   "source": [
    "x = 40\n",
    "\n",
    "if x > 10:\n",
    "    print(\"Above ten,\")\n",
    "    if x > 20:\n",
    "        print(\"and also above 20!\")\n",
    "    else:\n",
    "        print(\"but not above 20.\")\n"
   ]
  },
  {
   "cell_type": "markdown",
   "id": "f57ce4bf-f0bb-4afc-926b-a7d225fb8c44",
   "metadata": {},
   "source": [
    "# TASK7_Using pass Statement"
   ]
  },
  {
   "cell_type": "code",
   "execution_count": 9,
   "id": "4d0d82ca-d2ad-4f7a-b9e5-f7d12fae43e8",
   "metadata": {},
   "outputs": [],
   "source": [
    "a = 33\n",
    "b = 200\n",
    "\n",
    "if b > a:\n",
    "    pass   # do nothing (avoid error for empty if)\n"
   ]
  },
  {
   "cell_type": "markdown",
   "id": "7850e568-d9e6-41a0-92ed-91cd706d9be1",
   "metadata": {},
   "source": [
    "# 🧩 FUNCTIONS PRACTICE"
   ]
  },
  {
   "cell_type": "markdown",
   "id": "545041ca-dbf4-46bf-921b-572b4fba5a41",
   "metadata": {},
   "source": [
    "# TASK1_Simple Function"
   ]
  },
  {
   "cell_type": "code",
   "execution_count": 10,
   "id": "24c229e2-70c9-4289-add9-5d45c211d937",
   "metadata": {},
   "outputs": [
    {
     "name": "stdout",
     "output_type": "stream",
     "text": [
      "Mere ley pani le k ao\n"
     ]
    }
   ],
   "source": [
    "def nokar():\n",
    "    print(\"Mere ley pani le k ao\")\n",
    "\n",
    "nokar()\n"
   ]
  },
  {
   "cell_type": "markdown",
   "id": "6bb0d183-178e-499b-aef8-04358375e19e",
   "metadata": {},
   "source": [
    "# TASK2_Function that Adds Two Numbers"
   ]
  },
  {
   "cell_type": "code",
   "execution_count": 11,
   "id": "91f01f00-1d3d-4d37-b5d4-633b63782b5e",
   "metadata": {},
   "outputs": [
    {
     "name": "stdout",
     "output_type": "stream",
     "text": [
      "Sum is 5\n"
     ]
    }
   ],
   "source": [
    "def add_function():\n",
    "    a = 2\n",
    "    b = 3\n",
    "    c = a + b\n",
    "    print(\"Sum is\", c)\n",
    "\n",
    "add_function()\n"
   ]
  },
  {
   "cell_type": "markdown",
   "id": "96d3abda-a5e6-4304-b913-00d4481c824e",
   "metadata": {},
   "source": [
    "# TASK3_Function with Parameter"
   ]
  },
  {
   "cell_type": "code",
   "execution_count": 13,
   "id": "1d224318-eeba-41ba-aae6-cdd3d97276e7",
   "metadata": {},
   "outputs": [
    {
     "name": "stdout",
     "output_type": "stream",
     "text": [
      "Mere kapre lao, Sir Mn ap ka khadim\n",
      "Mere jute polish kro, Sir Mn ap ka khadim\n",
      "Mje pani piloa, Sir Mn ap ka khadim\n"
     ]
    }
   ],
   "source": [
    "def my_function(takiakalam):\n",
    "    print(takiakalam + \", Sir Mn ap ka khadim\")\n",
    "\n",
    "my_function(\"Mere kapre lao\")\n",
    "my_function(\"Mere jute polish kro\")\n",
    "my_function(\"Mje pani piloa\")\n"
   ]
  },
  {
   "cell_type": "markdown",
   "id": "8aea9fea-d36b-4e6c-9b22-d8c9e5065fdb",
   "metadata": {},
   "source": [
    "# TASK4_Function with Two Parameters"
   ]
  },
  {
   "cell_type": "code",
   "execution_count": 14,
   "id": "cc810c3b-5c75-466f-9267-9d1aac8a31e5",
   "metadata": {},
   "outputs": [
    {
     "name": "stdout",
     "output_type": "stream",
     "text": [
      "Emil Refsnes\n"
     ]
    }
   ],
   "source": [
    "def my_function(fname, lname):\n",
    "    print(fname + \" \" + lname)\n",
    "\n",
    "my_function(\"Emil\", \"Refsnes\")\n"
   ]
  },
  {
   "cell_type": "markdown",
   "id": "ff8e10ed-096e-4338-b102-65bf65e0a458",
   "metadata": {},
   "source": [
    "# TASK5_Default Parameter Example"
   ]
  },
  {
   "cell_type": "code",
   "execution_count": 15,
   "id": "1e6e1e04-076e-44a7-a62f-03c86cf92543",
   "metadata": {},
   "outputs": [
    {
     "name": "stdout",
     "output_type": "stream",
     "text": [
      "This person diagnoses fever\n",
      "This person diagnoses cough\n",
      "This person diagnoses cancer\n",
      "This person diagnoses inu lhr le jao\n"
     ]
    }
   ],
   "source": [
    "def my_function(pattokikadoctor=\"inu lhr le jao\"):\n",
    "    print(\"This person diagnoses \" + pattokikadoctor)\n",
    "\n",
    "my_function(\"fever\")\n",
    "my_function(\"cough\")\n",
    "my_function(\"cancer\")\n",
    "my_function()\n"
   ]
  },
  {
   "cell_type": "markdown",
   "id": "8156940f-6f68-4d50-8e1e-4c58b419b035",
   "metadata": {},
   "source": [
    "# TASK6_Function with List Parameter"
   ]
  },
  {
   "cell_type": "code",
   "execution_count": 16,
   "id": "7e9d5ff1-1f03-41ff-93b9-cee62df69a86",
   "metadata": {},
   "outputs": [
    {
     "name": "stdout",
     "output_type": "stream",
     "text": [
      "apple\n",
      "banana\n",
      "cherry\n"
     ]
    }
   ],
   "source": [
    "def my_function(food):\n",
    "    for x in food:\n",
    "        print(x)\n",
    "\n",
    "fruits = [\"apple\", \"banana\", \"cherry\"]\n",
    "my_function(fruits)\n"
   ]
  },
  {
   "cell_type": "markdown",
   "id": "5877181b-e774-423f-a20b-0f10aa29df28",
   "metadata": {},
   "source": [
    "# 🍎 LISTS / ARRAYS PRACTICE"
   ]
  },
  {
   "cell_type": "code",
   "execution_count": 17,
   "id": "0247a4de-e6c2-4c93-b105-e42af7486276",
   "metadata": {},
   "outputs": [
    {
     "name": "stdout",
     "output_type": "stream",
     "text": [
      "['Ford', 'Volvo', 'BMW']\n",
      "Total cars: 4\n",
      "Ford\n",
      "Volvo\n",
      "BMW\n",
      "Honda\n"
     ]
    }
   ],
   "source": [
    "cars = [\"Ford\", \"Volvo\", \"BMW\"]\n",
    "print(cars)\n",
    "\n",
    "cars.append(\"Honda\")\n",
    "print(\"Total cars:\", len(cars))\n",
    "\n",
    "for x in cars:\n",
    "    print(x)\n"
   ]
  },
  {
   "cell_type": "markdown",
   "id": "f5ca49a3-91b2-4872-b1c9-44bf0d52fdc8",
   "metadata": {},
   "source": [
    "# Remove Elements"
   ]
  },
  {
   "cell_type": "code",
   "execution_count": 18,
   "id": "5facb477-67b6-4251-8102-a4032038838a",
   "metadata": {},
   "outputs": [
    {
     "name": "stdout",
     "output_type": "stream",
     "text": [
      "['Ford', 'Volvo', 'BMW']\n",
      "['Ford', 'BMW']\n",
      "['Ford']\n"
     ]
    }
   ],
   "source": [
    "cars1 = [\"Ford\", \"Volvo\", \"BMW\"]\n",
    "print(cars1)\n",
    "\n",
    "cars1.pop(1)   # Removes item at index 1\n",
    "print(cars1)\n",
    "\n",
    "cars1.remove(\"BMW\")  # Removes specific value\n",
    "print(cars1)\n"
   ]
  },
  {
   "cell_type": "markdown",
   "id": "c1c1826d-8de7-49fa-ad6b-f50664e925ac",
   "metadata": {},
   "source": [
    "# 📅 PYTHON DATES"
   ]
  },
  {
   "cell_type": "code",
   "execution_count": 19,
   "id": "46da0f6c-55c1-46e7-8c51-66de1a661bf5",
   "metadata": {},
   "outputs": [
    {
     "name": "stdout",
     "output_type": "stream",
     "text": [
      "2025-10-30 19:52:20.017114\n",
      "2025\n",
      "Thursday\n"
     ]
    }
   ],
   "source": [
    "import datetime\n",
    "\n",
    "x = datetime.datetime.now()\n",
    "print(x)          # Full date and time\n",
    "print(x.year)     # Year only\n",
    "print(x.strftime(\"%A\"))  # Day of week\n"
   ]
  },
  {
   "cell_type": "code",
   "execution_count": 20,
   "id": "4d717cf4-48fd-49a0-8d04-bb3b46ae30c1",
   "metadata": {},
   "outputs": [
    {
     "name": "stdout",
     "output_type": "stream",
     "text": [
      "2020-05-17 00:00:00\n"
     ]
    }
   ],
   "source": [
    "import datetime\n",
    "\n",
    "x = datetime.datetime(2020, 5, 17)\n",
    "print(x)\n"
   ]
  },
  {
   "cell_type": "markdown",
   "id": "8b9e6c2c-6ba4-42c4-9941-108706270d71",
   "metadata": {},
   "source": [
    "# 🧮 PYTHON MATH FUNCTIONS"
   ]
  },
  {
   "cell_type": "code",
   "execution_count": 21,
   "id": "c2649319-fd07-4bda-9301-395f8cc56770",
   "metadata": {},
   "outputs": [
    {
     "name": "stdout",
     "output_type": "stream",
     "text": [
      "1\n",
      "70\n"
     ]
    }
   ],
   "source": [
    "x = min(1, 5, 10, 25)\n",
    "y = max(5, 10, 25, 70)\n",
    "\n",
    "print(x)\n",
    "print(y)\n"
   ]
  },
  {
   "cell_type": "code",
   "execution_count": 22,
   "id": "f7584d34-a360-4f75-975e-121d29b0ae32",
   "metadata": {},
   "outputs": [
    {
     "name": "stdout",
     "output_type": "stream",
     "text": [
      "7.25\n"
     ]
    }
   ],
   "source": [
    "x = abs(-7.25)\n",
    "print(x)\n"
   ]
  },
  {
   "cell_type": "code",
   "execution_count": 23,
   "id": "36eb37d3-261a-4a34-83cf-dcff2caaabda",
   "metadata": {},
   "outputs": [
    {
     "name": "stdout",
     "output_type": "stream",
     "text": [
      "64\n"
     ]
    }
   ],
   "source": [
    "x = pow(4, 3)\n",
    "print(x)\n"
   ]
  }
 ],
 "metadata": {
  "kernelspec": {
   "display_name": "Python [conda env:base] *",
   "language": "python",
   "name": "conda-base-py"
  },
  "language_info": {
   "codemirror_mode": {
    "name": "ipython",
    "version": 3
   },
   "file_extension": ".py",
   "mimetype": "text/x-python",
   "name": "python",
   "nbconvert_exporter": "python",
   "pygments_lexer": "ipython3",
   "version": "3.13.5"
  }
 },
 "nbformat": 4,
 "nbformat_minor": 5
}
